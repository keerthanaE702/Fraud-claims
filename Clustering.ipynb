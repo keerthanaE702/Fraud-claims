{
 "cells": [
  {
   "cell_type": "code",
   "execution_count": 1,
   "id": "46bd3a1f",
   "metadata": {},
   "outputs": [],
   "source": [
    "import pandas as pd\n",
    "import numpy as np\n",
    "import warnings\n",
    "warnings.filterwarnings('ignore')"
   ]
  },
  {
   "cell_type": "code",
   "execution_count": 2,
   "id": "3fc59145",
   "metadata": {},
   "outputs": [],
   "source": [
    "Traindata_with_Target = pd.read_csv(\"Traindata_with_Target.csv\")\n",
    "Train_Demographics = pd.read_csv(\"Train_Demographics.csv\")\n",
    "Train_Vehicle = pd.read_csv(\"Train_Vehicle.csv\")\n",
    "Train_Policy = pd.read_csv(\"Train_Policy.csv\")\n",
    "Train_Claim = pd.read_csv(\"Train_Claim.csv\")"
   ]
  },
  {
   "cell_type": "code",
   "execution_count": 3,
   "id": "ef76376e",
   "metadata": {},
   "outputs": [],
   "source": [
    "a = Traindata_with_Target.merge(Train_Demographics, how='left', on='CustomerID')"
   ]
  },
  {
   "cell_type": "code",
   "execution_count": 4,
   "id": "6006254d",
   "metadata": {},
   "outputs": [],
   "source": [
    "b = a.merge(Train_Policy,how='left',on='CustomerID')"
   ]
  },
  {
   "cell_type": "code",
   "execution_count": 5,
   "id": "49f584ae",
   "metadata": {},
   "outputs": [],
   "source": [
    "c = b.merge(Train_Claim,how='left',on='CustomerID')"
   ]
  },
  {
   "cell_type": "code",
   "execution_count": 6,
   "id": "ddeb2564",
   "metadata": {},
   "outputs": [],
   "source": [
    "train_data = c.merge(Train_Vehicle,how='left',on = 'CustomerID')"
   ]
  },
  {
   "cell_type": "code",
   "execution_count": 7,
   "id": "5dd99573",
   "metadata": {},
   "outputs": [],
   "source": [
    "Test = pd.read_csv(\"C:/Users/NEG100/Downloads/final project/final project/TestData/Test.csv\")\n",
    "Test_Demographics = pd.read_csv(\"C:/Users/NEG100/Downloads/final project/final project/TestData/Test_Demographics.csv\")\n",
    "Test_Vehicle = pd.read_csv(\"C:/Users/NEG100/Downloads/final project/final project/TestData/Test_Vehicle.csv\")\n",
    "Test_Policy = pd.read_csv(\"C:/Users/NEG100/Downloads/final project/final project/TestData/Test_Policy.csv\")\n",
    "Test_Claim = pd.read_csv(\"C:/Users/NEG100/Downloads/final project/final project/TestData/Test_Claim.csv\")"
   ]
  },
  {
   "cell_type": "code",
   "execution_count": 8,
   "id": "711a0989",
   "metadata": {},
   "outputs": [],
   "source": [
    "e = Test.merge(Test_Demographics, how='left', on='CustomerID')\n",
    "f = e.merge(Test_Policy, how='left', on='CustomerID')\n",
    "g = f.merge(Test_Claim, how='left', on='CustomerID')\n",
    "test_data = g.merge(Test_Vehicle, how='left', on='CustomerID')"
   ]
  },
  {
   "cell_type": "code",
   "execution_count": 9,
   "id": "7357a857",
   "metadata": {},
   "outputs": [
    {
     "data": {
      "text/plain": [
       "(115344, 40)"
      ]
     },
     "execution_count": 9,
     "metadata": {},
     "output_type": "execute_result"
    }
   ],
   "source": [
    "train_data.shape"
   ]
  },
  {
   "cell_type": "code",
   "execution_count": 10,
   "id": "714e069d",
   "metadata": {},
   "outputs": [
    {
     "data": {
      "text/plain": [
       "(35648, 39)"
      ]
     },
     "execution_count": 10,
     "metadata": {},
     "output_type": "execute_result"
    }
   ],
   "source": [
    "test_data.shape"
   ]
  },
  {
   "cell_type": "code",
   "execution_count": 11,
   "id": "ecfcc5a4",
   "metadata": {},
   "outputs": [],
   "source": [
    "pivoted_train = train_data.pivot(index='CustomerID',columns='VehicleAttribute',values='VehicleAttributeDetails').reset_index()\n",
    "pivoted_test = test_data.pivot(index='CustomerID',columns='VehicleAttribute',values='VehicleAttributeDetails').reset_index()"
   ]
  },
  {
   "cell_type": "code",
   "execution_count": 12,
   "id": "21c9df5b",
   "metadata": {},
   "outputs": [],
   "source": [
    "Train = train_data.merge(pivoted_train,how='left',on='CustomerID')\n",
    "Test = test_data.merge(pivoted_test,how='left',on='CustomerID')"
   ]
  },
  {
   "cell_type": "code",
   "execution_count": 13,
   "id": "f7fb69dc",
   "metadata": {},
   "outputs": [],
   "source": [
    "# Dropping Country Column from Train and Test Data Because it has only one value - India\n",
    "Train.drop([\"Country\",'VehicleAttribute','VehicleAttributeDetails'],axis=1,inplace=True)\n",
    "Test.drop([\"Country\",'VehicleAttribute','VehicleAttributeDetails'],axis=1,inplace=True)"
   ]
  },
  {
   "cell_type": "code",
   "execution_count": 14,
   "id": "a879dc52",
   "metadata": {},
   "outputs": [],
   "source": [
    "Train = Train.drop_duplicates()\n",
    "Test = Test.drop_duplicates()"
   ]
  },
  {
   "cell_type": "code",
   "execution_count": 15,
   "id": "bebfc58f",
   "metadata": {},
   "outputs": [],
   "source": [
    "Train.to_excel(\"Train_Data.xlsx\",sheet_name='Train_Data')\n",
    "Test.to_excel(\"Test_data.xlsx\",sheet_name='Test_Data')"
   ]
  },
  {
   "cell_type": "code",
   "execution_count": 16,
   "id": "a4e12e6e",
   "metadata": {},
   "outputs": [],
   "source": [
    "Train = pd.read_excel('Train_Data.xlsx',\n",
    "                      na_values=['NA','-1','?','???','MISSINGVAL','MISSINGVALUE','MISSEDDATA','-5'])"
   ]
  },
  {
   "cell_type": "code",
   "execution_count": 17,
   "id": "c4d5a4e0",
   "metadata": {},
   "outputs": [],
   "source": [
    "Test = pd.read_excel('Test_data.xlsx',\n",
    "                     na_values=['NA','-1','?','???','MISSINGVAL','MISSINGVALUE','MISSEDDATA','-5'])"
   ]
  },
  {
   "cell_type": "code",
   "execution_count": 18,
   "id": "b036c277",
   "metadata": {},
   "outputs": [],
   "source": [
    "train_fraud_yes = Train[Train['ReportedFraud'] == 'Y']\n",
    "train_fraud_no = Train[Train['ReportedFraud'] == 'N']"
   ]
  },
  {
   "cell_type": "code",
   "execution_count": 19,
   "id": "081336ad",
   "metadata": {},
   "outputs": [],
   "source": [
    "train_fraud_yes['TypeOfCollission'] = train_fraud_yes['TypeOfCollission'].fillna(train_fraud_yes['TypeOfCollission'].mode()[0])\n",
    "train_fraud_no['TypeOfCollission'] = train_fraud_no['TypeOfCollission'].fillna(train_fraud_no['TypeOfCollission'].mode()[0])"
   ]
  },
  {
   "cell_type": "code",
   "execution_count": 20,
   "id": "f5c5fce7",
   "metadata": {},
   "outputs": [],
   "source": [
    "Train = train_fraud_yes.append(train_fraud_no, ignore_index=True)"
   ]
  },
  {
   "cell_type": "code",
   "execution_count": 21,
   "id": "e32d9223",
   "metadata": {},
   "outputs": [],
   "source": [
    "Train['PropertyDamage'] = Train['PropertyDamage'].fillna(\"NO\")\n",
    "Test['PropertyDamage'] = Test['PropertyDamage'].fillna(\"NO\")\n",
    "Train['PoliceReport'] = Train['PoliceReport'].fillna(\"NO\")\n",
    "Test['PoliceReport'] = Test['PoliceReport'].fillna(\"NO\")\n",
    "Train['InsuredGender'] = Train['InsuredGender'].fillna(Train['InsuredGender'].mode()[0])\n",
    "Test['InsuredGender'] = Test['InsuredGender'].fillna(Test['InsuredGender'].mode()[0])\n",
    "Train['PolicyAnnualPremium'] = Train['PolicyAnnualPremium'].fillna(Train['PolicyAnnualPremium'].median())\n",
    "Test['PolicyAnnualPremium'] = Test['PolicyAnnualPremium'].fillna(Test['PolicyAnnualPremium'].median())\n",
    "Train['Witnesses'] = Train['Witnesses'].fillna(Train['Witnesses'].mode()[0])\n",
    "Test['Witnesses'] = Test['Witnesses'].fillna(Test['Witnesses'].mode()[0])\n",
    "Train['AmountOfTotalClaim'] = Train['AmountOfTotalClaim'].fillna(Train['AmountOfTotalClaim'].median())\n",
    "Test['AmountOfTotalClaim'] = Test['AmountOfTotalClaim'].fillna(Test['AmountOfTotalClaim'].median())\n",
    "Train['InsuredGender'] = Train['InsuredGender'].fillna(Train['InsuredGender'].mode()[0])\n",
    "Test['InsuredGender'] = Test['InsuredGender'].fillna(Test['InsuredGender'].mode()[0])\n",
    "Test['TypeOfCollission'] = Test['TypeOfCollission'].fillna(Test['TypeOfCollission'].mode()[0])\n",
    "Test['VehicleMake'] = Test['VehicleMake'].fillna(Test['VehicleMake'].mode()[0])\n",
    "Train['VehicleMake'] = Train['VehicleMake'].fillna(Train['VehicleMake'].mode()[0])"
   ]
  },
  {
   "cell_type": "code",
   "execution_count": 22,
   "id": "7950f3cd",
   "metadata": {},
   "outputs": [],
   "source": [
    "Train.dropna(inplace=True)"
   ]
  },
  {
   "cell_type": "code",
   "execution_count": 23,
   "id": "9833bb67",
   "metadata": {},
   "outputs": [
    {
     "data": {
      "text/plain": [
       "(28836, 42)"
      ]
     },
     "execution_count": 23,
     "metadata": {},
     "output_type": "execute_result"
    }
   ],
   "source": [
    "Train.shape"
   ]
  },
  {
   "cell_type": "code",
   "execution_count": 24,
   "id": "6a784b1a",
   "metadata": {},
   "outputs": [],
   "source": [
    "Test['TypeOfCollission'] = Test['TypeOfCollission'].fillna(Test['TypeOfCollission'].mode()[0])\n",
    "Test['TypeOfCollission'] = Test['TypeOfCollission'].fillna(Test['TypeOfCollission'].mode()[0])\n",
    "Test['PropertyDamage'] = Test['PropertyDamage'].fillna(\"NO\")\n",
    "Test['PoliceReport'] = Test['PoliceReport'].fillna(\"NO\")"
   ]
  },
  {
   "cell_type": "code",
   "execution_count": 25,
   "id": "d3488d66",
   "metadata": {},
   "outputs": [
    {
     "data": {
      "text/plain": [
       "(8912, 41)"
      ]
     },
     "execution_count": 25,
     "metadata": {},
     "output_type": "execute_result"
    }
   ],
   "source": [
    "Test.shape"
   ]
  },
  {
   "cell_type": "code",
   "execution_count": 26,
   "id": "60951495",
   "metadata": {},
   "outputs": [],
   "source": [
    "Train.drop([\"Unnamed: 0\"],axis=1,inplace=True)\n",
    "Test.drop([\"Unnamed: 0\"],axis=1,inplace=True)"
   ]
  },
  {
   "cell_type": "code",
   "execution_count": 27,
   "id": "3d516758",
   "metadata": {},
   "outputs": [],
   "source": [
    "Train_copy = Train.copy()\n",
    "Test_copy = Test.copy()"
   ]
  },
  {
   "cell_type": "code",
   "execution_count": 28,
   "id": "1fa53d8f",
   "metadata": {},
   "outputs": [],
   "source": [
    "dropping_columns = ['InsurancePolicyNumber','DateOfPolicyCoverage','InsuredZipCode','IncidentTime','IncidentAddress',\n",
    "                    'InsurancePolicyState','IncidentCity','IncidentState','InsuredHobbies','DateOfIncident','AmountOfTotalClaim']\n",
    "\n",
    "Train.drop(dropping_columns, inplace = True, axis = 1)\n",
    "Test.drop(dropping_columns,inplace = True, axis =1)"
   ]
  },
  {
   "cell_type": "code",
   "execution_count": 29,
   "id": "30df5778",
   "metadata": {},
   "outputs": [
    {
     "data": {
      "text/plain": [
       "((28836, 30), (8912, 29))"
      ]
     },
     "execution_count": 29,
     "metadata": {},
     "output_type": "execute_result"
    }
   ],
   "source": [
    "Train.shape,Test.shape"
   ]
  },
  {
   "cell_type": "code",
   "execution_count": 30,
   "id": "8da2502c",
   "metadata": {},
   "outputs": [],
   "source": [
    "Train.drop(['InsuredAge','CustomerID','VehicleID','VehicleMake','VehicleModel','VehicleYOM'], inplace = True, axis = 1)\n",
    "Test.drop(['InsuredAge','CustomerID','VehicleID','VehicleMake','VehicleModel','VehicleYOM'], inplace = True, axis = 1)"
   ]
  },
  {
   "cell_type": "code",
   "execution_count": 31,
   "id": "d5649b07",
   "metadata": {},
   "outputs": [],
   "source": [
    "from sklearn.preprocessing import LabelEncoder\n",
    "label_encoder = LabelEncoder()\n",
    "\n",
    "Train['ReportedFraud'] = label_encoder.fit_transform(Train['ReportedFraud'])"
   ]
  },
  {
   "cell_type": "code",
   "execution_count": 32,
   "id": "67bc5e22",
   "metadata": {},
   "outputs": [],
   "source": [
    "# separating the feature and target columns\n",
    "X = Train.drop('ReportedFraud', axis = 1)\n",
    "y = Train['ReportedFraud']"
   ]
  },
  {
   "cell_type": "code",
   "execution_count": 33,
   "id": "e5367b16",
   "metadata": {},
   "outputs": [],
   "source": [
    "numerical_columns = X.select_dtypes(include = ['int64','float64'])\n",
    "category_columns= X.select_dtypes(include = ['object'])\n",
    "category_columns_test = Test.select_dtypes(include = ['object'])\n",
    "numerical_columns_test = Test.select_dtypes(include = ['int64','float64'])"
   ]
  },
  {
   "cell_type": "code",
   "execution_count": 34,
   "id": "d0bc3bb9",
   "metadata": {},
   "outputs": [],
   "source": [
    "category_columns = pd.get_dummies(category_columns, drop_first = True)\n",
    "category_columns_test = pd.get_dummies(category_columns_test,drop_first = True)"
   ]
  },
  {
   "cell_type": "code",
   "execution_count": 35,
   "id": "f5880c98",
   "metadata": {},
   "outputs": [],
   "source": [
    "X = pd.concat([numerical_columns, category_columns], axis = 1)\n",
    "Test = pd.concat([numerical_columns_test, category_columns_test], axis = 1)"
   ]
  },
  {
   "cell_type": "code",
   "execution_count": 36,
   "id": "90992959",
   "metadata": {},
   "outputs": [
    {
     "data": {
      "text/plain": [
       "((28836, 59), (8912, 59))"
      ]
     },
     "execution_count": 36,
     "metadata": {},
     "output_type": "execute_result"
    }
   ],
   "source": [
    "X.shape, Test.shape"
   ]
  },
  {
   "cell_type": "code",
   "execution_count": 37,
   "id": "207b694c",
   "metadata": {},
   "outputs": [],
   "source": [
    "from sklearn.preprocessing import StandardScaler\n",
    "scaler = StandardScaler()\n",
    "X[['CapitalGains', 'CapitalLoss', 'CustomerLoyaltyPeriod',\n",
    "       'Policy_Deductible', 'PolicyAnnualPremium', 'UmbrellaLimit',\n",
    "       'NumberOfVehicles', 'BodilyInjuries', 'Witnesses',\n",
    "       'AmountOfInjuryClaim', 'AmountOfPropertyClaim',\n",
    "       'AmountOfVehicleDamage']] = scaler.fit_transform(X[['CapitalGains', 'CapitalLoss', 'CustomerLoyaltyPeriod',\n",
    "       'Policy_Deductible', 'PolicyAnnualPremium', 'UmbrellaLimit',\n",
    "       'NumberOfVehicles', 'BodilyInjuries', 'Witnesses',\n",
    "       'AmountOfInjuryClaim', 'AmountOfPropertyClaim',\n",
    "       'AmountOfVehicleDamage']].to_numpy())\n",
    "Test[['CapitalGains', 'CapitalLoss', 'CustomerLoyaltyPeriod',\n",
    "       'Policy_Deductible', 'PolicyAnnualPremium', 'UmbrellaLimit',\n",
    "       'NumberOfVehicles', 'BodilyInjuries', 'Witnesses',\n",
    "       'AmountOfInjuryClaim', 'AmountOfPropertyClaim',\n",
    "       'AmountOfVehicleDamage']] = scaler.fit_transform(Test[['CapitalGains', 'CapitalLoss', 'CustomerLoyaltyPeriod',\n",
    "       'Policy_Deductible', 'PolicyAnnualPremium', 'UmbrellaLimit',\n",
    "       'NumberOfVehicles', 'BodilyInjuries', 'Witnesses',\n",
    "       'AmountOfInjuryClaim', 'AmountOfPropertyClaim',\n",
    "       'AmountOfVehicleDamage']].to_numpy())"
   ]
  },
  {
   "cell_type": "code",
   "execution_count": 43,
   "id": "9e968037",
   "metadata": {},
   "outputs": [
    {
     "data": {
      "image/png": "[encoded data removed]",
      "text/plain": [
       "<Figure size 432x288 with 1 Axes>"
      ]
     },
     "metadata": {
      "needs_background": "light"
     },
     "output_type": "display_data"
    }
   ],
   "source": [
    "import matplotlib.pyplot as plt\n",
    "from sklearn.cluster import KMeans\n",
    "wcss = [] \n",
    "for i in range(1, 11): \n",
    "    kmeans = KMeans(n_clusters = i, init = 'k-means++', random_state = 42)\n",
    "    kmeans.fit(X) \n",
    "    wcss.append(kmeans.inertia_)\n",
    "plt.plot(range(1, 11), wcss)\n",
    "plt.xlabel('Number of clusters')\n",
    "plt.ylabel('WCSS') \n",
    "plt.show()"
   ]
  },
  {
   "cell_type": "code",
   "execution_count": 40,
   "id": "c9477ba7",
   "metadata": {},
   "outputs": [],
   "source": [
    "y_kmeans = kmeans.fit_predict(X)"
   ]
  },
  {
   "cell_type": "code",
   "execution_count": 41,
   "id": "b6f24f28",
   "metadata": {},
   "outputs": [
    {
     "data": {
      "text/plain": [
       "array([4, 0, 7, ..., 4, 8, 6])"
      ]
     },
     "execution_count": 41,
     "metadata": {},
     "output_type": "execute_result"
    }
   ],
   "source": [
    "y_kmeans"
   ]
  },
  {
   "cell_type": "code",
   "execution_count": 44,
   "id": "c970e1a1",
   "metadata": {},
   "outputs": [],
   "source": [
    "kmeans = KMeans(n_clusters = 3, init = \"k-means++\", random_state = 42)\n",
    "y_kmeans = kmeans.fit_predict(X)"
   ]
  },
  {
   "cell_type": "code",
   "execution_count": 45,
   "id": "37496905",
   "metadata": {},
   "outputs": [
    {
     "data": {
      "text/plain": [
       "array([2, 2, 0, ..., 2, 1, 0])"
      ]
     },
     "execution_count": 45,
     "metadata": {},
     "output_type": "execute_result"
    }
   ],
   "source": [
    "y_kmeans"
   ]
  },
  {
   "cell_type": "code",
   "execution_count": null,
   "id": "4ff6dbb5",
   "metadata": {},
   "outputs": [],
   "source": []
  }
 ],
 "metadata": {
  "kernelspec": {
   "display_name": "Python 3",
   "language": "python",
   "name": "python3"
  },
  "language_info": {
   "codemirror_mode": {
    "name": "ipython",
    "version": 3
   },
   "file_extension": ".py",
   "mimetype": "text/x-python",
   "name": "python",
   "nbconvert_exporter": "python",
   "pygments_lexer": "ipython3",
   "version": "3.8.8"
  }
 },
 "nbformat": 4,
 "nbformat_minor": 5
}
