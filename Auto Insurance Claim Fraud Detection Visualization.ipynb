{
 "cells": [
  {
   "cell_type": "code",
   "execution_count": null,
   "id": "52be9094",
   "metadata": {},
   "outputs": [],
   "source": [
    "import pandas as pd\n",
    "import numpy as np\n",
    "import warnings\n",
    "warnings.filterwarnings('ignore')\n",
    "import matplotlib.pyplot as plt\n",
    "import seaborn as sns\n",
    "import plotly.express as px\n",
    "plt.style.use('ggplot')"
   ]
  },
  {
   "cell_type": "code",
   "execution_count": null,
   "id": "1a6b48bd",
   "metadata": {},
   "outputs": [],
   "source": [
    "Traindata_with_Target = pd.read_csv(\"Traindata_with_Target.csv\")\n",
    "Train_Demographics = pd.read_csv(\"Train_Demographics.csv\")\n",
    "Train_Vehicle = pd.read_csv(\"Train_Vehicle.csv\")\n",
    "Train_Policy = pd.read_csv(\"Train_Policy.csv\")\n",
    "Train_Claim = pd.read_csv(\"Train_Claim.csv\")"
   ]
  },
  {
   "cell_type": "code",
   "execution_count": null,
   "id": "e2e063bb",
   "metadata": {},
   "outputs": [],
   "source": [
    "a = Traindata_with_Target.merge(Train_Demographics, how='left', on='CustomerID')"
   ]
  },
  {
   "cell_type": "code",
   "execution_count": null,
   "id": "7e9e5225",
   "metadata": {},
   "outputs": [],
   "source": [
    "b = a.merge(Train_Policy,how='left',on='CustomerID')"
   ]
  },
  {
   "cell_type": "code",
   "execution_count": null,
   "id": "fe132de7",
   "metadata": {},
   "outputs": [],
   "source": [
    "c = b.merge(Train_Claim,how='left',on='CustomerID')"
   ]
  },
  {
   "cell_type": "code",
   "execution_count": null,
   "id": "d52da7fd",
   "metadata": {},
   "outputs": [],
   "source": [
    "train_data = c.merge(Train_Vehicle,how='left',on = 'CustomerID')"
   ]
  },
  {
   "cell_type": "code",
   "execution_count": null,
   "id": "d51afefd",
   "metadata": {},
   "outputs": [],
   "source": [
    "Test = pd.read_csv(\"Test.csv\")\n",
    "Test_Demographics = pd.read_csv(\"Test_Demographics.csv\")\n",
    "Test_Vehicle = pd.read_csv(\"Test_Vehicle.csv\")\n",
    "Test_Policy = pd.read_csv(\"Test_Policy.csv\")\n",
    "Test_Claim = pd.read_csv(\"Test_Claim.csv\")"
   ]
  },
  {
   "cell_type": "code",
   "execution_count": null,
   "id": "08b7df14",
   "metadata": {},
   "outputs": [],
   "source": [
    "e = Test.merge(Test_Demographics, how='left', on='CustomerID')\n",
    "f = e.merge(Test_Policy, how='left', on='CustomerID')\n",
    "g = f.merge(Test_Claim, how='left', on='CustomerID')\n",
    "test_data = g.merge(Test_Vehicle, how='left', on='CustomerID')"
   ]
  },
  {
   "cell_type": "code",
   "execution_count": null,
   "id": "12de2e3e",
   "metadata": {},
   "outputs": [],
   "source": [
    "train_data.shape"
   ]
  },
  {
   "cell_type": "code",
   "execution_count": null,
   "id": "6ffa3b98",
   "metadata": {},
   "outputs": [],
   "source": [
    "test_data.shape"
   ]
  },
  {
   "cell_type": "code",
   "execution_count": null,
   "id": "6ddd83d5",
   "metadata": {},
   "outputs": [],
   "source": [
    "pivoted_train = train_data.pivot(index='CustomerID',columns='VehicleAttribute',values='VehicleAttributeDetails').reset_index()\n",
    "pivoted_test = test_data.pivot(index='CustomerID',columns='VehicleAttribute',values='VehicleAttributeDetails').reset_index()"
   ]
  },
  {
   "cell_type": "code",
   "execution_count": null,
   "id": "b904793e",
   "metadata": {},
   "outputs": [],
   "source": [
    "Train = train_data.merge(pivoted_train,how='left',on='CustomerID')\n",
    "Test = test_data.merge(pivoted_test,how='left',on='CustomerID')"
   ]
  },
  {
   "cell_type": "code",
   "execution_count": null,
   "id": "7febde3a",
   "metadata": {},
   "outputs": [],
   "source": [
    "# Dropping Country Column from Train and Test Data Because it has only one value - India\n",
    "Train.drop([\"Country\",'VehicleAttribute','VehicleAttributeDetails'],axis=1,inplace=True)\n",
    "Test.drop([\"Country\",'VehicleAttribute','VehicleAttributeDetails'],axis=1,inplace=True)"
   ]
  },
  {
   "cell_type": "code",
   "execution_count": null,
   "id": "732ccb3a",
   "metadata": {},
   "outputs": [],
   "source": [
    "Train = Train.drop_duplicates()\n",
    "Test = Test.drop_duplicates()"
   ]
  },
  {
   "cell_type": "code",
   "execution_count": null,
   "id": "8ded1d7c",
   "metadata": {},
   "outputs": [],
   "source": [
    "Train.to_excel(\"Train_Data.xlsx\",sheet_name='Train_Data')\n",
    "Test.to_excel(\"Test_data.xlsx\",sheet_name='Test_Data')"
   ]
  },
  {
   "cell_type": "code",
   "execution_count": null,
   "id": "5aa13b50",
   "metadata": {},
   "outputs": [],
   "source": [
    "Train = pd.read_excel('Train_Data.xlsx',\n",
    "                      na_values=['NA','-1','?','???','MISSINGVAL','MISSINGVALUE','MISSEDDATA','-5'])"
   ]
  },
  {
   "cell_type": "code",
   "execution_count": null,
   "id": "955d6027",
   "metadata": {},
   "outputs": [],
   "source": [
    "Test = pd.read_excel('Test_data.xlsx',\n",
    "                     na_values=['NA','-1','?','???','MISSINGVAL','MISSINGVALUE','MISSEDDATA','-5'])"
   ]
  },
  {
   "cell_type": "code",
   "execution_count": null,
   "id": "f1677fd0",
   "metadata": {},
   "outputs": [],
   "source": [
    "import missingno as msno\n",
    "msno.bar(Train)\n",
    "plt.show()"
   ]
  },
  {
   "cell_type": "code",
   "execution_count": null,
   "id": "34e7d88e",
   "metadata": {},
   "outputs": [],
   "source": [
    "msno.bar(Test)\n",
    "plt.show()"
   ]
  },
  {
   "cell_type": "code",
   "execution_count": null,
   "id": "0e2073ff",
   "metadata": {},
   "outputs": [],
   "source": [
    "# Treating the NA Values\n",
    "# Type of collision column has 20648 Na's but when comparing the target value with this column \n",
    "# Not Fraud has a majority value \n",
    "# My thought is to filter based on the Target values and then impute with mode for this column"
   ]
  },
  {
   "cell_type": "code",
   "execution_count": null,
   "id": "d190d632",
   "metadata": {},
   "outputs": [],
   "source": [
    "train_fraud_yes = Train[Train['ReportedFraud'] == 'Y']\n",
    "train_fraud_no = Train[Train['ReportedFraud'] == 'N']"
   ]
  },
  {
   "cell_type": "code",
   "execution_count": null,
   "id": "7504edaf",
   "metadata": {},
   "outputs": [],
   "source": [
    "train_fraud_yes['TypeOfCollission'] = train_fraud_yes['TypeOfCollission'].fillna(train_fraud_yes['TypeOfCollission'].mode()[0])\n",
    "train_fraud_no['TypeOfCollission'] = train_fraud_no['TypeOfCollission'].fillna(train_fraud_no['TypeOfCollission'].mode()[0])"
   ]
  },
  {
   "cell_type": "code",
   "execution_count": null,
   "id": "841e87e6",
   "metadata": {},
   "outputs": [],
   "source": [
    "Train = train_fraud_yes.append(train_fraud_no, ignore_index=True)"
   ]
  },
  {
   "cell_type": "code",
   "execution_count": null,
   "id": "e483c93f",
   "metadata": {},
   "outputs": [],
   "source": [
    "Train['PropertyDamage'] = Train['PropertyDamage'].fillna(\"NO\")\n",
    "Train['PoliceReport'] = Train['PoliceReport'].fillna(\"NO\")\n",
    "# Train['InsuredGender'] = Train['InsuredGender'].fillna(Train['InsuredGender'].mode()[0])\n",
    "# Train['PolicyAnnualPremium'] = Train['PolicyAnnualPremium'].fillna(Train['PolicyAnnualPremium'].median())"
   ]
  },
  {
   "cell_type": "code",
   "execution_count": null,
   "id": "e93d58d5",
   "metadata": {},
   "outputs": [],
   "source": [
    "Train.dropna(inplace=True)"
   ]
  },
  {
   "cell_type": "code",
   "execution_count": null,
   "id": "661aacb0",
   "metadata": {},
   "outputs": [],
   "source": [
    "Train.shape"
   ]
  },
  {
   "cell_type": "code",
   "execution_count": null,
   "id": "b4ddaa32",
   "metadata": {},
   "outputs": [],
   "source": [
    "Test['TypeOfCollission'] = Test['TypeOfCollission'].fillna(Test['TypeOfCollission'].mode()[0])\n",
    "Test['TypeOfCollission'] = Test['TypeOfCollission'].fillna(Test['TypeOfCollission'].mode()[0])\n",
    "Test['PropertyDamage'] = Test['PropertyDamage'].fillna(\"NO\")\n",
    "Test['PoliceReport'] = Test['PoliceReport'].fillna(\"NO\")"
   ]
  },
  {
   "cell_type": "code",
   "execution_count": null,
   "id": "3741856e",
   "metadata": {},
   "outputs": [],
   "source": [
    "Test.dropna(inplace=True)"
   ]
  },
  {
   "cell_type": "code",
   "execution_count": null,
   "id": "614cad6d",
   "metadata": {},
   "outputs": [],
   "source": [
    "Test.shape"
   ]
  },
  {
   "cell_type": "code",
   "execution_count": null,
   "id": "6a9728a5",
   "metadata": {},
   "outputs": [],
   "source": [
    "Train.drop([\"Unnamed: 0\"],axis=1,inplace=True)\n",
    "Test.drop([\"Unnamed: 0\"],axis=1,inplace=True)"
   ]
  },
  {
   "cell_type": "code",
   "execution_count": null,
   "id": "c3c43a56",
   "metadata": {},
   "outputs": [],
   "source": [
    "Train.columns"
   ]
  },
  {
   "cell_type": "code",
   "execution_count": null,
   "id": "d6bd6dad",
   "metadata": {},
   "outputs": [],
   "source": [
    "#plt.figure(figsize=[5,4])\n",
    "fig = px.pie(Train,names='ReportedFraud')\n",
    "fig.show()"
   ]
  },
  {
   "cell_type": "code",
   "execution_count": null,
   "id": "fc2d74a1",
   "metadata": {},
   "outputs": [],
   "source": [
    "# checking for multicollinearity\n",
    "plt.figure(figsize = (18, 12))\n",
    "\n",
    "corr = Train.corr()\n",
    "mask = np.triu(np.ones_like(corr, dtype = bool))\n",
    "\n",
    "sns.heatmap(data = corr, mask = mask, annot = True, fmt = '.2g', linewidth = 1)\n",
    "plt.show()"
   ]
  },
  {
   "cell_type": "code",
   "execution_count": null,
   "id": "4762186f",
   "metadata": {
    "scrolled": true
   },
   "outputs": [],
   "source": [
    "fig = px.box(Train, x=\"InsurancePolicyState\", y=\"AmountOfTotalClaim\", color=\"ReportedFraud\")\n",
    "fig.show()"
   ]
  },
  {
   "cell_type": "code",
   "execution_count": null,
   "id": "2c579e32",
   "metadata": {},
   "outputs": [],
   "source": [
    "Train.columns"
   ]
  },
  {
   "cell_type": "code",
   "execution_count": null,
   "id": "65753339",
   "metadata": {},
   "outputs": [],
   "source": [
    "Train['count'] = 1\n",
    "groupdf_is = Train.groupby(by=['InsuredGender','ReportedFraud']).count()\n",
    "groupdf_is.reset_index(inplace=True)\n",
    "groupdf_is = groupdf_is[['InsuredGender','ReportedFraud','count']]\n",
    "groupdf_is.head()"
   ]
  },
  {
   "cell_type": "code",
   "execution_count": null,
   "id": "c92dc2f8",
   "metadata": {},
   "outputs": [],
   "source": [
    "fig=px.bar(groupdf_is,x='InsuredGender',y='count',color='ReportedFraud',text='count',\n",
    "           pattern_shape_sequence=['|','/'],pattern_shape='ReportedFraud')\n",
    "fig.show()"
   ]
  },
  {
   "cell_type": "code",
   "execution_count": null,
   "id": "332675f4",
   "metadata": {},
   "outputs": [],
   "source": [
    "Train.columns"
   ]
  },
  {
   "cell_type": "code",
   "execution_count": null,
   "id": "924c3e5c",
   "metadata": {},
   "outputs": [],
   "source": [
    "groupdf_el = Train.groupby(by=['InsuredEducationLevel','ReportedFraud']).count()\n",
    "groupdf_el.reset_index(inplace=True)\n",
    "groupdf_el = groupdf_el[['InsuredEducationLevel','ReportedFraud','count']]\n",
    "groupdf_el.head()"
   ]
  },
  {
   "cell_type": "code",
   "execution_count": null,
   "id": "7a55acf8",
   "metadata": {},
   "outputs": [],
   "source": [
    "fig = px.bar(groupdf_el,x='InsuredEducationLevel',y='count',color='ReportedFraud',text='count',title=\"Insurance Claim for different education Level\")\n",
    "fig.show()"
   ]
  },
  {
   "cell_type": "code",
   "execution_count": null,
   "id": "261d1994",
   "metadata": {},
   "outputs": [],
   "source": [
    "groupdf_ic = Train.groupby(by=['InsuredOccupation','ReportedFraud']).count()\n",
    "groupdf_ic.reset_index(inplace=True)\n",
    "groupdf_ic = groupdf_ic[['InsuredOccupation','ReportedFraud','count']]\n",
    "groupdf_ic.head()"
   ]
  },
  {
   "cell_type": "code",
   "execution_count": null,
   "id": "e5497065",
   "metadata": {},
   "outputs": [],
   "source": [
    "fig = px.bar(groupdf_ic,x='InsuredOccupation',y='count',color='ReportedFraud',text='count',title='Number of Claims different Occupation')\n",
    "fig.show()"
   ]
  },
  {
   "cell_type": "code",
   "execution_count": null,
   "id": "7986cf4a",
   "metadata": {},
   "outputs": [],
   "source": [
    "groupdf_h = Train.groupby(by=['InsuredHobbies','ReportedFraud']).count()\n",
    "groupdf_h.reset_index(inplace=True)\n",
    "groupdf_h = groupdf_h[['InsuredHobbies','ReportedFraud','count']]\n",
    "groupdf_h.head()"
   ]
  },
  {
   "cell_type": "code",
   "execution_count": null,
   "id": "e0a144f7",
   "metadata": {},
   "outputs": [],
   "source": [
    "fig = px.bar(groupdf_h,x='InsuredHobbies',y='count',color='ReportedFraud',text='count',title=\"Hobby Wise claim\")\n",
    "fig.show()"
   ]
  },
  {
   "cell_type": "code",
   "execution_count": null,
   "id": "15cfe2c3",
   "metadata": {},
   "outputs": [],
   "source": [
    "groupdf_rl = Train.groupby(by=['InsuredRelationship','ReportedFraud']).count()\n",
    "groupdf_rl.reset_index(inplace=True)\n",
    "groupdf_rl = groupdf_rl[['InsuredRelationship','ReportedFraud','count']]\n",
    "groupdf_rl.head()"
   ]
  },
  {
   "cell_type": "code",
   "execution_count": null,
   "id": "cdb4d9cd",
   "metadata": {
    "scrolled": true
   },
   "outputs": [],
   "source": [
    "fig = px.bar(groupdf_rl,x='InsuredRelationship',y='count',color='ReportedFraud',text='count')\n",
    "fig.show()"
   ]
  },
  {
   "cell_type": "code",
   "execution_count": null,
   "id": "c35db89f",
   "metadata": {},
   "outputs": [],
   "source": [
    "Train.columns"
   ]
  },
  {
   "cell_type": "code",
   "execution_count": null,
   "id": "357cffc4",
   "metadata": {},
   "outputs": [],
   "source": [
    "groupdf_it = Train.groupby(by=['TypeOfIncident','ReportedFraud']).count()\n",
    "groupdf_it.reset_index(inplace=True)\n",
    "groupdf_it = groupdf_it[['TypeOfIncident','ReportedFraud','count']]\n",
    "groupdf_it.head()"
   ]
  },
  {
   "cell_type": "code",
   "execution_count": null,
   "id": "2e8ca605",
   "metadata": {},
   "outputs": [],
   "source": [
    "fig = px.bar(groupdf_it,x='TypeOfIncident',y='count',color='ReportedFraud',text='count',\n",
    "             title=\"Number of claims Vs. Incident type\")\n",
    "fig.show()"
   ]
  },
  {
   "cell_type": "code",
   "execution_count": null,
   "id": "3d43422a",
   "metadata": {},
   "outputs": [],
   "source": [
    "groupdf_ct = Train.groupby(by=['TypeOfCollission','ReportedFraud']).count()\n",
    "groupdf_ct.reset_index(inplace=True)\n",
    "groupdf_ct = groupdf_ct[['TypeOfCollission','ReportedFraud','count']]\n",
    "groupdf_ct.head()"
   ]
  },
  {
   "cell_type": "code",
   "execution_count": null,
   "id": "cf4d12b9",
   "metadata": {},
   "outputs": [],
   "source": [
    "fig = px.bar(groupdf_ct,x='TypeOfCollission',y='count',color='ReportedFraud',text='count',title=\"Nos. of Claim for different type of collision\")\n",
    "fig.show()"
   ]
  },
  {
   "cell_type": "code",
   "execution_count": null,
   "id": "d5db8cc2",
   "metadata": {},
   "outputs": [],
   "source": [
    "groupdf_ins = Train.groupby(by=['SeverityOfIncident','ReportedFraud']).count()\n",
    "groupdf_ins.reset_index(inplace=True)\n",
    "groupdf_ins = groupdf_ins[['SeverityOfIncident','ReportedFraud','count']]\n",
    "groupdf_ins.head()"
   ]
  },
  {
   "cell_type": "code",
   "execution_count": null,
   "id": "75e527a8",
   "metadata": {
    "scrolled": true
   },
   "outputs": [],
   "source": [
    "fig = px.bar(groupdf_ins,x='SeverityOfIncident',y='count',color='ReportedFraud',text='count',title=\"Number of claim Vs. Incident severity\")\n",
    "fig.show()"
   ]
  },
  {
   "cell_type": "code",
   "execution_count": null,
   "id": "a79f384c",
   "metadata": {},
   "outputs": [],
   "source": [
    "Train.columns"
   ]
  },
  {
   "cell_type": "code",
   "execution_count": null,
   "id": "478790ff",
   "metadata": {},
   "outputs": [],
   "source": [
    "groupdf_ac = Train.groupby(by=['AuthoritiesContacted','ReportedFraud']).count()\n",
    "groupdf_ac.reset_index(inplace=True)\n",
    "groupdf_ac = groupdf_ac[['AuthoritiesContacted','ReportedFraud','count']]\n",
    "groupdf_ac.head()"
   ]
  },
  {
   "cell_type": "code",
   "execution_count": null,
   "id": "d70711b2",
   "metadata": {},
   "outputs": [],
   "source": [
    "fig = px.bar(groupdf_ac,x='AuthoritiesContacted',y='count',color='ReportedFraud',text='count')\n",
    "fig.show()"
   ]
  },
  {
   "cell_type": "code",
   "execution_count": null,
   "id": "f9ce421a",
   "metadata": {},
   "outputs": [],
   "source": [
    "groupdf_st = Train.groupby(by=['IncidentState','ReportedFraud']).count()\n",
    "groupdf_st.reset_index(inplace=True)\n",
    "groupdf_st = groupdf_st[['IncidentState','ReportedFraud','count']]\n",
    "groupdf_st.head()"
   ]
  },
  {
   "cell_type": "code",
   "execution_count": null,
   "id": "60809c33",
   "metadata": {},
   "outputs": [],
   "source": [
    "fig = px.bar(groupdf_st,x='IncidentState',y='count',color='ReportedFraud',text='count',title=\"Claims for different state\")\n",
    "fig.show()"
   ]
  },
  {
   "cell_type": "code",
   "execution_count": null,
   "id": "e1500832",
   "metadata": {},
   "outputs": [],
   "source": []
  },
  {
   "cell_type": "code",
   "execution_count": null,
   "id": "b51a20d1",
   "metadata": {},
   "outputs": [],
   "source": []
  },
  {
   "cell_type": "code",
   "execution_count": null,
   "id": "52fe9519",
   "metadata": {},
   "outputs": [],
   "source": []
  }
 ],
 "metadata": {
  "kernelspec": {
   "display_name": "Python 3 (ipykernel)",
   "language": "python",
   "name": "python3"
  },
  "language_info": {
   "codemirror_mode": {
    "name": "ipython",
    "version": 3
   },
   "file_extension": ".py",
   "mimetype": "text/x-python",
   "name": "python",
   "nbconvert_exporter": "python",
   "pygments_lexer": "ipython3",
   "version": "3.9.12"
  }
 },
 "nbformat": 4,
 "nbformat_minor": 5
}
